{
 "cells": [
  {
   "cell_type": "markdown",
   "id": "360f779d",
   "metadata": {},
   "source": [
    "Probabillity plot from logistic regression.\n",
    "\n",
    "https://www.statology.org/plot-logistic-regression-in-r/"
   ]
  },
  {
   "cell_type": "code",
   "execution_count": null,
   "id": "1fc9b01c",
   "metadata": {},
   "outputs": [],
   "source": []
  }
 ],
 "metadata": {
  "kernelspec": {
   "display_name": "R with Stan",
   "language": "R",
   "name": "ir"
  },
  "language_info": {
   "codemirror_mode": "r",
   "file_extension": ".r",
   "mimetype": "text/x-r-source",
   "name": "R",
   "pygments_lexer": "r",
   "version": "4.1.1"
  }
 },
 "nbformat": 4,
 "nbformat_minor": 5
}
